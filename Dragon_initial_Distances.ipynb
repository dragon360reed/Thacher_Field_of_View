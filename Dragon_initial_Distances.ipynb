{
 "cells": [
  {
   "cell_type": "markdown",
   "metadata": {},
   "source": [
    "This is the first attempt sequence...."
   ]
  },
  {
   "cell_type": "code",
   "execution_count": 14,
   "metadata": {
    "collapsed": true
   },
   "outputs": [],
   "source": [
    "%matplotlib inline\n",
    "\n",
    "import healpy as hp\n",
    "import numpy as np\n",
    "import json\n",
    "import astropy.coordinates as coord\n",
    "import astropy.units as u\n",
    "import matplotlib.pyplot as plt\n",
    "from astropy.io import fits\n",
    "import csv\n",
    "from scipy.special import erf\n",
    "import astroquery as ast\n"
   ]
  },
  {
   "cell_type": "code",
   "execution_count": 15,
   "metadata": {
    "collapsed": true
   },
   "outputs": [],
   "source": [
    "#The following function finds distance between two points, and returns whether or not the points are within distance r of each other\n",
    "#r is the diagonal range available within one field of view of the telescope in question.\n",
    "\n",
    "def within_field_check(r,ra1,ra2,dec1,dec2):\n",
    "    \n",
    "    one_field = [] #this forms a list of galaxies within one field of view\n",
    "    dist = np.sqrt((ra2*cos(dec2)-ra1*cos(dec1))**2. + (dec2-dec1)**2.)\n",
    "    if dist<r:\n",
    "        one_field.append(dist)\n",
    "    else:\n",
    "        return (\"Cannot fit in frame\")"
   ]
  },
  {
   "cell_type": "code",
   "execution_count": null,
   "metadata": {
    "collapsed": true
   },
   "outputs": [],
   "source": []
  },
  {
   "cell_type": "code",
   "execution_count": 17,
   "metadata": {
    "collapsed": false
   },
   "outputs": [
    {
     "name": "stderr",
     "output_type": "stream",
     "text": [
      "/Users/dragon/anaconda/envs/astroconda_35/lib/python3.5/site-packages/ipykernel/__main__.py:1: DeprecationWarning: 'U' mode is deprecated\n",
      "  if __name__ == '__main__':\n"
     ]
    },
    {
     "ename": "NameError",
     "evalue": "name 'used' is not defined",
     "output_type": "error",
     "traceback": [
      "\u001b[0;31m---------------------------------------------------------------------------\u001b[0m",
      "\u001b[0;31mNameError\u001b[0m                                 Traceback (most recent call last)",
      "\u001b[0;32m<ipython-input-17-a5712d8f07c0>\u001b[0m in \u001b[0;36m<module>\u001b[0;34m()\u001b[0m\n\u001b[1;32m      7\u001b[0m     \u001b[0;32mfor\u001b[0m \u001b[0mrow\u001b[0m \u001b[0;32min\u001b[0m \u001b[0mreader\u001b[0m\u001b[0;34m:\u001b[0m\u001b[0;34m\u001b[0m\u001b[0m\n\u001b[1;32m      8\u001b[0m \u001b[0;34m\u001b[0m\u001b[0m\n\u001b[0;32m----> 9\u001b[0;31m         \u001b[0;32mif\u001b[0m \u001b[0mused\u001b[0m \u001b[0;34m==\u001b[0m \u001b[0;32mFalse\u001b[0m\u001b[0;34m:\u001b[0m\u001b[0;34m\u001b[0m\u001b[0m\n\u001b[0m\u001b[1;32m     10\u001b[0m \u001b[0;34m\u001b[0m\u001b[0m\n\u001b[1;32m     11\u001b[0m             \u001b[0mra1\u001b[0m \u001b[0;34m=\u001b[0m \u001b[0mnp\u001b[0m\u001b[0;34m.\u001b[0m\u001b[0mcos\u001b[0m\u001b[0;34m(\u001b[0m\u001b[0mrow\u001b[0m\u001b[0;34m[\u001b[0m\u001b[0;36m2\u001b[0m\u001b[0;34m]\u001b[0m\u001b[0;34m)\u001b[0m\u001b[0;34m*\u001b[0m\u001b[0mrow\u001b[0m\u001b[0;34m[\u001b[0m\u001b[0;36m1\u001b[0m\u001b[0;34m]\u001b[0m \u001b[0;31m#RA requires a cosine factor.\u001b[0m\u001b[0;34m\u001b[0m\u001b[0m\n",
      "\u001b[0;31mNameError\u001b[0m: name 'used' is not defined"
     ]
    }
   ],
   "source": [
    "with open(\"Thacher_Galaxies_sorted_by_dist.csv\",\"rU\") as csvinput:\n",
    "        \n",
    "    reader = csv.reader(csvinput, delimiter=\",\")\n",
    "\n",
    "    r = 3. #arbitrary. What is Thacher's field of view?\n",
    "        \n",
    "    for row in reader:\n",
    "            \n",
    "        if used == False:\n",
    "            \n",
    "            ra1 = np.cos(row[2])*row[1] #RA requires a cosine factor.\n",
    "            dec1 = row[2]\n",
    "        \n",
    "            ra2 = np.cos((row+1)[2])*(row+1)[1]#RA requires a cosine factor.                dec2 = (row+1)[2]\n",
    "        \n",
    "            one_field = [] #Forms an empty list to put galaxies within one field of view in\n",
    "            \n",
    "            dist = np.sqrt(dist = np.sqrt((ra2-ra1)**2. + (dec2-dec1)**2.))              \n",
    "            \n",
    "            if dist<r:\n",
    "                    one_field.append(dist)\n",
    "                    print (one_field)\n",
    "            else:\n",
    "                print (\"Cannot fit in frame\")\n",
    "                    \n",
    "            used == True\n",
    "\n",
    "        if used ==True:\n",
    "\n",
    "            row = row+1 #We need to skip the ones which have already been chosen\n",
    "        "
   ]
  },
  {
   "cell_type": "markdown",
   "metadata": {},
   "source": [
    "This is what I had in C++\n",
    "#include <iostream>\n",
    "#include <cmath>\n",
    "\n",
    "int main(int argc, const char * argv[])\n",
    "{\n",
    "\tFILE* myFile = fopen(\"Thacher_nameradec_sorteddist.csv\", \"r\");\n",
    "\t\n",
    "\t\n",
    "\tconst int nElemsMax = 10;\n",
    "\t\n",
    "\tchar name[nElemsMax][32];\n",
    "\tdouble ra[nElemsMax], dec[nElemsMax];\n",
    "\t\n",
    "\tint nItems(0);\n",
    "\tfor( int i = 0; i < nElemsMax; i++ )\n",
    "\t{\n",
    "\t\tint got = fscanf(myFile, \"%32[^,], %lf, %lf\", name[i], &ra[i], &dec[i]);\n",
    "\t\tif(got != 3) break;\n",
    "\t\tif(name[i][0] == '\\n')\n",
    "\t\t\tstrcpy(name[i], &name[i][1]);\n",
    "\t\t\n",
    "\t\tprintf(\"Name: %s,  RA[%d] = %lf, Dec[%d] = %lf\\n\", name[i], i, ra[i], i, dec[i]);\n",
    "\t\tnItems++;\n",
    "\t}\n",
    "\n",
    "\tfclose(myFile);\n",
    "\t\n",
    "\t\n",
    "\tFILE* output = fopen(\"outpute_test.csv\",\"w+\");\n",
    "\t\n",
    "\tbool used[nElemsMax];\n",
    "\t\n",
    "\tfor( int i = 0; i < nItems; i++ )\n",
    "\t\tused[i]=false;\n",
    "\t\n",
    "\tdouble distLimit_arcmin = 3.0;\n",
    "\tfor( int i = 0; i < nItems; i++ )\n",
    "\t{\n",
    "\t\tif( !used[i] )\n",
    "\t\t{\n",
    "\t\t\tdouble this_ra = ra[i];\n",
    "\t\t\tdouble this_dec = dec[i];\n",
    "\t\t\n",
    "\t\t\tprintf(\"For Galaxy: %s, RA: %lf,  Dec: %lf\\n\", name[i], ra[i], dec[i]);\n",
    "\t\t\tfprintf(output, \"For Galaxy: %s, RA: %lf,  Dec: %lf\\n\", name[i], ra[i], dec[i]);\n",
    "\t\t\tused[i]=true;\n",
    "\t\t\n",
    "\t\t\tfor(int j = 0; j < nItems; j++)\n",
    "\t\t\t{\n",
    "\t\t\t\tif( j != i && ! used[j])\n",
    "\t\t\t\t{\n",
    "\t\t\t\t\tdouble dist = std::sqrt( std::pow(ra[j]-this_ra, 2) + std::pow(dec[j]-this_dec, 2) );\n",
    "\t\t\t\t\tif( dist < distLimit_arcmin )\n",
    "\t\t\t\t\t{\n",
    "\t\t\t\t\t\tprintf(\"Name: %s, RA: %lf,  Dec: %lf\\n\", name[j], ra[j], dec[j]);\n",
    "\t\t\t\t\t\tfprintf(output, \"Name: %s, RA: %lf,  Dec: %lf\\n\", name[j], ra[j], dec[j]);\n",
    "\t\t\t\t\t\tused[j]=true;\n",
    "\t\t\t\t\t\n",
    "\t\t\t\t\t}\n",
    "\t\t\t\t}\n",
    "\t\t\t}\n",
    "\t\t}\n",
    "\t}\n",
    "\tfclose(output);\n",
    "\treturn 0;\n",
    "}"
   ]
  },
  {
   "cell_type": "code",
   "execution_count": null,
   "metadata": {
    "collapsed": true
   },
   "outputs": [],
   "source": [
    "with open(\"Thacher_Galaxies_sorted_by_dist.csv\",\"rU\") as csvinput:\n",
    "    with open(\"Thacher_Galaxies_within_field_query.csv\",\"w\") as csvoutput:\n",
    "        \n",
    "        reader = csv.reader(csvinput, delimiter=\",\")\n",
    "        writer = csv.writer(csvoutput, lineterminator=\"\\n\")\n",
    "        \n",
    "        output_rows = []\n",
    "        header_row = next(reader)\n",
    "        header_row.append(\"Within_field\")\n",
    "        output_rows.append(header_row)\n",
    "        \n",
    "# Better estimate for RA 0.2010cos3ωtdegrees\n",
    "\n",
    "        Within_field = []\n",
    "\n",
    "        for row in reader:\n",
    "            Name = row[0]\n",
    "            ra = row[1]*np.cos(row[1]) # RA (degree) col\n",
    "            dec = row[2] # DEC (degree) col\n",
    "            c = coord.SkyCoord(ra+dec,unit=(u.hourangle, u.deg),frame=\"fk5\")\n",
    "            \n",
    "            ra2 = reader(i+1)*np.cos(i+1)\n",
    "            dec2 = row[2]\n",
    "            one_field = [] #this forms a list of galaxies within one field of view\n",
    "            dist = np.sqrt((ra2-ra1)**2. + (dec2-dec1)**2.)\n",
    "            if dist<r:\n",
    "                one_field.append(dist)\n",
    "            else:\n",
    "                print (\"Cannot fit in frame\")\n",
    "            \n",
    "    \n",
    "            row.append(Within_field)\n",
    "            output_rows.append(row)\n",
    "\n",
    "        writer.writerows(output_rows)"
   ]
  },
  {
   "cell_type": "code",
   "execution_count": 6,
   "metadata": {
    "collapsed": true
   },
   "outputs": [],
   "source": [
    "#Both of these functions below take in N numbers, and \n",
    "#find the distance between each number and every other number.\n",
    "#The second one is faster, if we care.\n",
    "\n",
    "\n",
    "def dist_array_easy(U):\n",
    "    Uarray = np.arange(U ** 2)\n",
    "    Ui = np.floor(Uarray / U)\n",
    "    di = np.abs(Ui.reshape(-1, 1) - Ui)\n",
    "    di = np.minimum(di, U - di)\n",
    "    Uj = Ui * U - Uarray\n",
    "    dj = np.abs(Uarray.reshape(-1, 1) - Ui.reshape(-1, 1) * U + Uj)\n",
    "    dj = np.minimum(dj, U - dj)\n",
    "    return np.hypot(di, dj)\n",
    "\n",
    "def dist_array(U):\n",
    "    def d(i):\n",
    "        i = np.abs(i.reshape(-1, 1) - i.reshape(-1))\n",
    "        return np.minimum(i, U - i)\n",
    "    i, j = np.mgrid[:U, :U]\n",
    "    return np.hypot(d(i), d(j))"
   ]
  }
 ],
 "metadata": {
  "kernelspec": {
   "display_name": "Python [astroconda_35]",
   "language": "python",
   "name": "Python [astroconda_35]"
  },
  "language_info": {
   "codemirror_mode": {
    "name": "ipython",
    "version": 3
   },
   "file_extension": ".py",
   "mimetype": "text/x-python",
   "name": "python",
   "nbconvert_exporter": "python",
   "pygments_lexer": "ipython3",
   "version": "3.5.2"
  }
 },
 "nbformat": 4,
 "nbformat_minor": 0
}
