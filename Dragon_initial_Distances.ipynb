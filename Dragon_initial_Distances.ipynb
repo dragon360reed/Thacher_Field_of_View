{
 "cells": [
  {
   "cell_type": "markdown",
   "metadata": {},
   "source": [
    "This is the first attempt sequence...."
   ]
  },
  {
   "cell_type": "code",
   "execution_count": 60,
   "metadata": {},
   "outputs": [],
   "source": [
    "%matplotlib inline\n",
    "\n",
    "import healpy as hp\n",
    "import numpy as np\n",
    "import json\n",
    "import astropy.coordinates as coord\n",
    "import astropy.units as u\n",
    "import matplotlib.pyplot as plt\n",
    "from astropy.io import fits\n",
    "import csv\n",
    "from scipy.special import erf\n",
    "import astroquery as ast\n",
    "from tqdm import tqdm_notebook as tqdm"
   ]
  },
  {
   "cell_type": "code",
   "execution_count": 72,
   "metadata": {},
   "outputs": [
    {
     "name": "stderr",
     "output_type": "stream",
     "text": [
      "/Users/yaosarayin/anaconda2/lib/python2.7/site-packages/ipykernel_launcher.py:5: SettingWithCopyWarning: \n",
      "A value is trying to be set on a copy of a slice from a DataFrame\n",
      "\n",
      "See the caveats in the documentation: http://pandas.pydata.org/pandas-docs/stable/indexing.html#indexing-view-versus-copy\n",
      "  \"\"\"\n"
     ]
    },
    {
     "data": {
      "application/vnd.jupyter.widget-view+json": {
       "model_id": "95250268cc924e94ad8629a6d49c52c6",
       "version_major": 2,
       "version_minor": 0
      },
      "text/plain": [
       "HBox(children=(IntProgress(value=0, max=10), HTML(value=u'')))"
      ]
     },
     "metadata": {},
     "output_type": "display_data"
    },
    {
     "name": "stderr",
     "output_type": "stream",
     "text": [
      "/Users/yaosarayin/anaconda2/lib/python2.7/site-packages/ipykernel_launcher.py:11: SettingWithCopyWarning: \n",
      "A value is trying to be set on a copy of a slice from a DataFrame\n",
      "\n",
      "See the caveats in the documentation: http://pandas.pydata.org/pandas-docs/stable/indexing.html#indexing-view-versus-copy\n",
      "  # This is added back by InteractiveShellApp.init_path()\n"
     ]
    },
    {
     "name": "stdout",
     "output_type": "stream",
     "text": [
      "\n"
     ]
    },
    {
     "data": {
      "application/vnd.jupyter.widget-view+json": {
       "model_id": "38f198dc9fec4fe0bcd40b411bcfb770",
       "version_major": 2,
       "version_minor": 0
      },
      "text/plain": [
       "HBox(children=(IntProgress(value=0, max=10), HTML(value=u'')))"
      ]
     },
     "metadata": {},
     "output_type": "display_data"
    },
    {
     "name": "stdout",
     "output_type": "stream",
     "text": [
      "\n"
     ]
    }
   ],
   "source": [
    "\n",
    "import pandas as pd\n",
    "csvinput = pd.read_csv(\"Thacher_Galaxies_sorted_by_dist.csv\")\n",
    "\n",
    "csvinput['used'] = np.chararray(len(csvinput))\n",
    "csvinput['used'][:] = False\n",
    "\n",
    "#print csvinput\n",
    "\n",
    "csvinput['Skycoord'] = np.nan\n",
    "for galaxy in tqdm(range(10)):\n",
    "    csvinput['Skycoord'][galaxy] = coord.SkyCoord(csvinput['RA'][galaxy],csvinput['Dec'][galaxy],unit=(u.hourangle, u.deg),frame=\"fk5\")\n",
    "\n",
    "#The following outputs the distance between each galaxy and all other galaxies, takes a few minutes to run\n",
    "#Definitely not the most efficient way to do it\n",
    "Dis = {} #huge dictionary of all the distances\n",
    "for galaxy in tqdm(range(10)):\n",
    "    Dis[csvinput['Name'][galaxy]] = {}\n",
    "    for galaxy_compare in range(10):\n",
    "        sep = csvinput['Skycoord'][galaxy].separation(csvinput['Skycoord'][galaxy_compare])\n",
    "        Dis[csvinput['Name'][galaxy]][csvinput['Name'][galaxy_compare]] = sep\n",
    "\n",
    "Dis_array = np.array([[Dis[j][i].arcminute for i in csvinput['Name']] for j in csvinput['Name']])"
   ]
  },
  {
   "cell_type": "code",
   "execution_count": 41,
   "metadata": {},
   "outputs": [],
   "source": [
    "\"\"\"\n",
    "Some modification of the translation of C++ code, not sure if it is exactly what Draco wants\n",
    "\"\"\"\n",
    "csvinput['Within_field'] = np.chararray(len(csvinput))\n",
    "csvinput['Within_field'][:] = False\n",
    "\n",
    "r = 3. #I need to check on this, is it in arcminutes?\n",
    "\n",
    "one_field = [] #Forms an empty list to put galaxies within one field of view in\n",
    "\n",
    "for row in range(len(csvinput)):\n",
    "    \n",
    "    if csvinput['used'][row] == False:\n",
    "            \n",
    "            ra1 = np.cos(csvinput['Dec'][row])*csvinput['RA'][row] #RA requires a cosine factor.\n",
    "            dec1 = csvinput['Dec'][row]\n",
    "        \n",
    "            ra2 = np.cos(csvinput['Dec'][row+1])*csvinput['RA'][row+1]#RA requires a cosine factor.                dec2 = (row+1)[2]\n",
    "            \n",
    "            dist = np.sqrt(dist = np.sqrt((ra2-ra1)**2. + (dec2-dec1)**2.))              \n",
    "            \n",
    "            if dist < r:\n",
    "                    one_field.append(dist)\n",
    "                    csvinput['Within_field'][row] = True\n",
    "            else:\n",
    "                print (\"Cannot fit in frame\")\n",
    "                    \n",
    "            csvinput['used'][row] == True\n",
    "\n",
    "    elif csvinput['used'][row] == True:\n",
    "\n",
    "            row = row+1 #We need to skip the ones which have already been chosen\n",
    "\n",
    "csvinput.to_csv(\"Thacher_Galaxies_within_field_query.csv\")\n",
    "\n",
    "\"\"\"\n",
    "with open(\"Thacher_Galaxies_sorted_by_dist.csv\",\"rU\") as csvinput:\n",
    "        \n",
    "    reader = csv.reader(csvinput, delimiter=\",\")\n",
    "\n",
    "    r = 3. #arbitrary. What is Thacher's field of view?\n",
    "        \n",
    "    for row in reader:\n",
    "        print row[2],row[1]\n",
    "    \n",
    "        if used == False:\n",
    "            \n",
    "            ra1 = np.cos(row[2])*row[1] #RA requires a cosine factor.\n",
    "            dec1 = row[2]\n",
    "        \n",
    "            ra2 = np.cos((row+1)[2])*(row+1)[1]#RA requires a cosine factor.                dec2 = (row+1)[2]\n",
    "        \n",
    "            one_field = [] #Forms an empty list to put galaxies within one field of view in\n",
    "            \n",
    "            dist = np.sqrt(dist = np.sqrt((ra2-ra1)**2. + (dec2-dec1)**2.))              \n",
    "            \n",
    "            if dist<r:\n",
    "                    one_field.append(dist)\n",
    "                    print (one_field)\n",
    "            else:\n",
    "                print (\"Cannot fit in frame\")\n",
    "                    \n",
    "            used == True\n",
    "\n",
    "        if used ==True:\n",
    "\n",
    "            row = row+1 #We need to skip the ones which have already been chosen\n",
    "\"\"\""
   ]
  },
  {
   "cell_type": "markdown",
   "metadata": {},
   "source": [
    "This is what I had in C++\n",
    "#include <iostream>\n",
    "#include <cmath>\n",
    "\n",
    "int main(int argc, const char * argv[])\n",
    "{\n",
    "\tFILE* myFile = fopen(\"Thacher_nameradec_sorteddist.csv\", \"r\");\n",
    "\t\n",
    "\t\n",
    "\tconst int nElemsMax = 10;\n",
    "\t\n",
    "\tchar name[nElemsMax][32];\n",
    "\tdouble ra[nElemsMax], dec[nElemsMax];\n",
    "\t\n",
    "\tint nItems(0);\n",
    "\tfor( int i = 0; i < nElemsMax; i++ )\n",
    "\t{\n",
    "\t\tint got = fscanf(myFile, \"%32[^,], %lf, %lf\", name[i], &ra[i], &dec[i]);\n",
    "\t\tif(got != 3) break;\n",
    "\t\tif(name[i][0] == '\\n')\n",
    "\t\t\tstrcpy(name[i], &name[i][1]);\n",
    "\t\t\n",
    "\t\tprintf(\"Name: %s,  RA[%d] = %lf, Dec[%d] = %lf\\n\", name[i], i, ra[i], i, dec[i]);\n",
    "\t\tnItems++;\n",
    "\t}\n",
    "\n",
    "\tfclose(myFile);\n",
    "\t\n",
    "\t\n",
    "\tFILE* output = fopen(\"outpute_test.csv\",\"w+\");\n",
    "\t\n",
    "\tbool used[nElemsMax];\n",
    "\t\n",
    "\tfor( int i = 0; i < nItems; i++ )\n",
    "\t\tused[i]=false;\n",
    "\t\n",
    "\tdouble distLimit_arcmin = 3.0;\n",
    "\tfor( int i = 0; i < nItems; i++ )\n",
    "\t{\n",
    "\t\tif( !used[i] )\n",
    "\t\t{\n",
    "\t\t\tdouble this_ra = ra[i];\n",
    "\t\t\tdouble this_dec = dec[i];\n",
    "\t\t\n",
    "\t\t\tprintf(\"For Galaxy: %s, RA: %lf,  Dec: %lf\\n\", name[i], ra[i], dec[i]);\n",
    "\t\t\tfprintf(output, \"For Galaxy: %s, RA: %lf,  Dec: %lf\\n\", name[i], ra[i], dec[i]);\n",
    "\t\t\tused[i]=true;\n",
    "\t\t\n",
    "\t\t\tfor(int j = 0; j < nItems; j++)\n",
    "\t\t\t{\n",
    "\t\t\t\tif( j != i && ! used[j])\n",
    "\t\t\t\t{\n",
    "\t\t\t\t\tdouble dist = std::sqrt( std::pow(ra[j]-this_ra, 2) + std::pow(dec[j]-this_dec, 2) );\n",
    "\t\t\t\t\tif( dist < distLimit_arcmin )\n",
    "\t\t\t\t\t{\n",
    "\t\t\t\t\t\tprintf(\"Name: %s, RA: %lf,  Dec: %lf\\n\", name[j], ra[j], dec[j]);\n",
    "\t\t\t\t\t\tfprintf(output, \"Name: %s, RA: %lf,  Dec: %lf\\n\", name[j], ra[j], dec[j]);\n",
    "\t\t\t\t\t\tused[j]=true;\n",
    "\t\t\t\t\t\n",
    "\t\t\t\t\t}\n",
    "\t\t\t\t}\n",
    "\t\t\t}\n",
    "\t\t}\n",
    "\t}\n",
    "\tfclose(output);\n",
    "\treturn 0;\n",
    "}"
   ]
  },
  {
   "cell_type": "code",
   "execution_count": null,
   "metadata": {},
   "outputs": [],
   "source": [
    "#The following function finds distance between two points, and returns whether or not the points are within distance r of each other\n",
    "#r is the diagonal range available within one field of view of the telescope in question.\n",
    "\n",
    "def within_field_check(r,ra1,ra2,dec1,dec2):\n",
    "    \n",
    "    one_field = [] #this forms a list of galaxies within one field of view\n",
    "    dist = np.sqrt((ra2*cos(dec2)-ra1*cos(dec1))**2. + (dec2-dec1)**2.)\n",
    "    if dist<r:\n",
    "        one_field.append(dist)\n",
    "    else:\n",
    "        return (\"Cannot fit in frame\")\n",
    "    "
   ]
  },
  {
   "cell_type": "code",
   "execution_count": 52,
   "metadata": {},
   "outputs": [
    {
     "name": "stdout",
     "output_type": "stream",
     "text": [
      "['Name', 'RA', 'Dec', 'dist', 'B_Mag', 'J_Mag', 'K_Mag', 'Type', 'Av', 'Num_HST']\n",
      "[['Name', 'RA', 'Dec', 'dist', 'B_Mag', 'J_Mag', 'K_Mag', 'Type', 'Av', 'Num_HST', 'Within_field']]\n",
      "['NGC4485', '187.629639', '41.701172', '0.8695388606', '12.19', '11.234', '10.58', 'G', '0.333', '1.80E+01']\n"
     ]
    },
    {
     "ename": "TypeError",
     "evalue": "ufunc 'cos' not supported for the input types, and the inputs could not be safely coerced to any supported types according to the casting rule ''safe''",
     "output_type": "error",
     "traceback": [
      "\u001b[0;31m---------------------------------------------------------------------------\u001b[0m",
      "\u001b[0;31mTypeError\u001b[0m                                 Traceback (most recent call last)",
      "\u001b[0;32m<ipython-input-52-0f50eef2668a>\u001b[0m in \u001b[0;36m<module>\u001b[0;34m()\u001b[0m\n\u001b[1;32m     19\u001b[0m             \u001b[0;32mprint\u001b[0m \u001b[0mrow\u001b[0m\u001b[0;34m\u001b[0m\u001b[0m\n\u001b[1;32m     20\u001b[0m             \u001b[0mName\u001b[0m \u001b[0;34m=\u001b[0m \u001b[0mrow\u001b[0m\u001b[0;34m[\u001b[0m\u001b[0;36m0\u001b[0m\u001b[0;34m]\u001b[0m\u001b[0;34m\u001b[0m\u001b[0m\n\u001b[0;32m---> 21\u001b[0;31m             \u001b[0mra\u001b[0m \u001b[0;34m=\u001b[0m \u001b[0mrow\u001b[0m\u001b[0;34m[\u001b[0m\u001b[0;36m1\u001b[0m\u001b[0;34m]\u001b[0m\u001b[0;34m*\u001b[0m\u001b[0mnp\u001b[0m\u001b[0;34m.\u001b[0m\u001b[0mcos\u001b[0m\u001b[0;34m(\u001b[0m\u001b[0mrow\u001b[0m\u001b[0;34m[\u001b[0m\u001b[0;36m1\u001b[0m\u001b[0;34m]\u001b[0m\u001b[0;34m)\u001b[0m \u001b[0;31m# RA (degree) col\u001b[0m\u001b[0;34m\u001b[0m\u001b[0m\n\u001b[0m\u001b[1;32m     22\u001b[0m             \u001b[0mdec\u001b[0m \u001b[0;34m=\u001b[0m \u001b[0mrow\u001b[0m\u001b[0;34m[\u001b[0m\u001b[0;36m2\u001b[0m\u001b[0;34m]\u001b[0m \u001b[0;31m# DEC (degree) col\u001b[0m\u001b[0;34m\u001b[0m\u001b[0m\n\u001b[1;32m     23\u001b[0m             \u001b[0mc\u001b[0m \u001b[0;34m=\u001b[0m \u001b[0mcoord\u001b[0m\u001b[0;34m.\u001b[0m\u001b[0mSkyCoord\u001b[0m\u001b[0;34m(\u001b[0m\u001b[0mra\u001b[0m\u001b[0;34m+\u001b[0m\u001b[0mdec\u001b[0m\u001b[0;34m,\u001b[0m\u001b[0munit\u001b[0m\u001b[0;34m=\u001b[0m\u001b[0;34m(\u001b[0m\u001b[0mu\u001b[0m\u001b[0;34m.\u001b[0m\u001b[0mhourangle\u001b[0m\u001b[0;34m,\u001b[0m \u001b[0mu\u001b[0m\u001b[0;34m.\u001b[0m\u001b[0mdeg\u001b[0m\u001b[0;34m)\u001b[0m\u001b[0;34m,\u001b[0m\u001b[0mframe\u001b[0m\u001b[0;34m=\u001b[0m\u001b[0;34m\"fk5\"\u001b[0m\u001b[0;34m)\u001b[0m\u001b[0;34m\u001b[0m\u001b[0m\n",
      "\u001b[0;31mTypeError\u001b[0m: ufunc 'cos' not supported for the input types, and the inputs could not be safely coerced to any supported types according to the casting rule ''safe''"
     ]
    }
   ],
   "source": [
    "with open(\"Thacher_Galaxies_sorted_by_dist.csv\",\"rU\") as csvinput:\n",
    "    with open(\"Thacher_Galaxies_within_field_query.csv\",\"w\") as csvoutput:\n",
    "        \n",
    "        reader = csv.reader(csvinput, delimiter=\",\")\n",
    "        writer = csv.writer(csvoutput, lineterminator=\"\\n\")\n",
    "        \n",
    "        output_rows = []\n",
    "        header_row = next(reader)\n",
    "        print header_row\n",
    "        header_row.append(\"Within_field\")\n",
    "        output_rows.append(header_row)\n",
    "        print output_rows\n",
    "        \n",
    "# Better estimate for RA 0.2010cos3ωtdegrees\n",
    "\n",
    "        Within_field = []\n",
    "\n",
    "        for row in reader:\n",
    "            print row\n",
    "            Name = row[0]\n",
    "            ra = row[1]*np.cos(row[1]) # RA (degree) col\n",
    "            dec = row[2] # DEC (degree) col\n",
    "            c = coord.SkyCoord(ra+dec,unit=(u.hourangle, u.deg),frame=\"fk5\")\n",
    "            \n",
    "            ra2 = reader(i+1)*np.cos(i+1)\n",
    "            dec2 = row[2]\n",
    "            one_field = [] #this forms a list of galaxies within one field of view\n",
    "            dist = np.sqrt((ra2-ra1)**2. + (dec2-dec1)**2.)\n",
    "            if dist<r:\n",
    "                one_field.append(dist)\n",
    "            else:\n",
    "                print (\"Cannot fit in frame\")\n",
    "            \n",
    "    \n",
    "            row.append(Within_field)\n",
    "            output_rows.append(row)\n",
    "\n",
    "        writer.writerows(output_rows)\n"
   ]
  },
  {
   "cell_type": "code",
   "execution_count": null,
   "metadata": {},
   "outputs": [],
   "source": [
    "#Both of these functions below take in N numbers, and \n",
    "#find the distance between each number and every other number.\n",
    "#The second one is faster, if we care.\n",
    "\n",
    "\n",
    "def dist_array_easy(U):\n",
    "    Uarray = np.arange(U ** 2)\n",
    "    Ui = np.floor(Uarray / U)\n",
    "    di = np.abs(Ui.reshape(-1, 1) - Ui)\n",
    "    di = np.minimum(di, U - di)\n",
    "    Uj = Ui * U - Uarray\n",
    "    dj = np.abs(Uarray.reshape(-1, 1) - Ui.reshape(-1, 1) * U + Uj)\n",
    "    dj = np.minimum(dj, U - dj)\n",
    "    return np.hypot(di, dj)\n",
    "\n",
    "def dist_array(U):\n",
    "    def d(i):\n",
    "        i = np.abs(i.reshape(-1, 1) - i.reshape(-1))\n",
    "        return np.minimum(i, U - i)\n",
    "    i, j = np.mgrid[:U, :U]\n",
    "    return np.hypot(d(i), d(j))"
   ]
  }
 ],
 "metadata": {
  "kernelspec": {
   "display_name": "Python 2",
   "language": "python",
   "name": "python2"
  },
  "language_info": {
   "codemirror_mode": {
    "name": "ipython",
    "version": 2
   },
   "file_extension": ".py",
   "mimetype": "text/x-python",
   "name": "python",
   "nbconvert_exporter": "python",
   "pygments_lexer": "ipython2",
   "version": "2.7.15"
  }
 },
 "nbformat": 4,
 "nbformat_minor": 1
}
